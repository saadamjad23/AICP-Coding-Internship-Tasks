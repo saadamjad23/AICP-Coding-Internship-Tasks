{
 "cells": [
  {
   "cell_type": "markdown",
   "id": "d4319342",
   "metadata": {},
   "source": [
    "# AICP Internship Task Week 1"
   ]
  },
  {
   "cell_type": "markdown",
   "id": "42ce4214",
   "metadata": {},
   "source": [
    "A farmer records the milk production of a herd of cows. Every cow has a unique 3-digit identity\n",
    "code. Each cow can be milked twice a day, seven days a week. The volume of milk from each\n",
    "cow is recorded in litres correct to one decimal place (yield) every time the cow is milked. The\n",
    "size of the herd is fixed. At the end of the week the total and the average yield for each cow for\n",
    "that week is calculated.\n"
   ]
  },
  {
   "cell_type": "markdown",
   "id": "363ba35b",
   "metadata": {},
   "source": [
    "The farmer identifies the cow that has produced the most milk that week. The farmer also\n",
    "identifies any cows that have produced less than 12 litres of milk on four or more days that\n",
    "week."
   ]
  },
  {
   "cell_type": "markdown",
   "id": "8889c395",
   "metadata": {},
   "source": [
    "A program is required to record the yield for each cow every time it is milked, calculate the total\n",
    "weekly volume of milk for the herd and the average yield per cow in a week. The program must\n",
    "also identify the cow with the best yield that week and identify any cows with a yield of less than\n",
    "12 litres of milk for four or more days that week.\n"
   ]
  },
  {
   "cell_type": "markdown",
   "id": "01387c4b",
   "metadata": {},
   "source": [
    "Write and test a program or programs for the farmer.\n",
    "* Your program or programs must include appropriate prompts for the entry of data.\n",
    "* Error messages and other output need to be set out clearly and understandably.\n",
    "* All variables, constants and other identifiers must have meaningful names.\n"
   ]
  },
  {
   "cell_type": "markdown",
   "id": "b4ec2c46",
   "metadata": {},
   "source": [
    "You will need to complete these three tasks. Each task must be fully tested."
   ]
  },
  {
   "cell_type": "markdown",
   "id": "fd4a721c",
   "metadata": {},
   "source": [
    "## TASK 1 –Record the yield.\n"
   ]
  },
  {
   "cell_type": "markdown",
   "id": "306ddda0",
   "metadata": {},
   "source": [
    "Write a program for TASK 1 to record the milk yields for a week. The program records and\n",
    "stores the identity code number and the yield every time a cow is milked."
   ]
  },
  {
   "cell_type": "code",
   "execution_count": 221,
   "id": "92b3b3f5",
   "metadata": {},
   "outputs": [],
   "source": [
    "# the herd of cows is intialized and it is fixed\n",
    "cows = 3"
   ]
  },
  {
   "cell_type": "code",
   "execution_count": 222,
   "id": "2db33e89",
   "metadata": {},
   "outputs": [
    {
     "name": "stdout",
     "output_type": "stream",
     "text": [
      "Enter 3-digit Identity code of cow 1: 001\n",
      "Cow 1 milk in Litres (For Whole Week)(Separated by spaces)(14 entries required) : 4 5 6 7 8 9 8 7 6 5 4 8 7 9\n",
      "Enter 3-digit Identity code of cow 2: 1231\n",
      "Invalid Identity\n",
      "Enter 3-digit Identity code of cow 2: 002\n",
      "Cow 2 milk in Litres (For Whole Week)(Separated by spaces)(14 entries required) : 5 6\n",
      "Please Enter Milk for the whole Week.\n",
      "Cow 2 milk in Litres (For Whole Week)(Separated by spaces)(14 entries required) : 8 7 8 7 8 7 8 7 8 7 8 7 8 7\n",
      "Enter 3-digit Identity code of cow 3: 003\n",
      "Cow 3 milk in Litres (For Whole Week)(Separated by spaces)(14 entries required) : 6 9 8 7 9 8 6 8 7 9 8 9 9 8\n",
      "{'001': [4, 5, 6, 7, 8, 9, 8, 7, 6, 5, 4, 8, 7, 9], '002': [8, 7, 8, 7, 8, 7, 8, 7, 8, 7, 8, 7, 8, 7], '003': [6, 9, 8, 7, 9, 8, 6, 8, 7, 9, 8, 9, 9, 8]}\n"
     ]
    }
   ],
   "source": [
    "# Task1\n",
    "milk_yield = {}    # dictionary is declared to store cow yield w.r.t ID\n",
    "\n",
    "values = []        # this list will store milk gived by the cow\n",
    "\n",
    "for i in range(cows):          # loop will run for 3 times\n",
    "    \n",
    "# This while loop will check whether the Identity code given is corect or not\n",
    "# If it is coorect then it will store milk for a Whole Week produced by the cow in a list of integers\n",
    "    while True:\n",
    "        identity_code = input(f\"Enter 3-digit Identity code of cow {i + 1}: \") \n",
    "        if len(identity_code) == 3 and identity_code.isdigit():\n",
    "            while True:\n",
    "                milk = input(f\"Cow {i + 1} milk in Litres (For Whole Week)(Separated by spaces)(14 entries required) : \").split()\n",
    "                milk = [int(values) for values in milk]\n",
    "                if (len(milk) == 14):\n",
    "                    break\n",
    "                print(\"Please Enter Milk for the whole Week.\")    \n",
    "            break\n",
    "        print(\"Invalid Identity\")\n",
    "       \n",
    "    milk_yield[identity_code] = milk\n",
    "    \n",
    "print(milk_yield)     #prints the dictionary"
   ]
  },
  {
   "cell_type": "code",
   "execution_count": 223,
   "id": "df86a394",
   "metadata": {},
   "outputs": [
    {
     "name": "stdout",
     "output_type": "stream",
     "text": [
      "dict_keys(['001', '002', '003'])\n",
      "['001', '002', '003']\n",
      "001\n",
      "002\n",
      "003\n"
     ]
    }
   ],
   "source": [
    "# to access dictionary in program, we need to store these keys in the form of list \n",
    "\n",
    "keys = milk_yield.keys()     # accessing keys\n",
    "print(keys)                  # printing keys\n",
    "\n",
    "keys_list = list(keys)       # storing keys in list \n",
    "print(keys_list)             # printing list of keys\n",
    "\n",
    "for i in range(0, len(keys_list)):\n",
    "    print(keys_list[i])          # keys at all indeces starting from 0"
   ]
  },
  {
   "cell_type": "code",
   "execution_count": 224,
   "id": "60f25d50",
   "metadata": {},
   "outputs": [
    {
     "name": "stdout",
     "output_type": "stream",
     "text": [
      "[4, 5, 6, 7, 8, 9, 8, 7, 6, 5, 4, 8, 7, 9]\n",
      "14\n",
      "[8, 7, 8, 7, 8, 7, 8, 7, 8, 7, 8, 7, 8, 7]\n",
      "14\n",
      "[6, 9, 8, 7, 9, 8, 6, 8, 7, 9, 8, 9, 9, 8]\n",
      "14\n"
     ]
    }
   ],
   "source": [
    "# Yield per time given by the Cow 1 with identity code \n",
    "for i in range(0,len(keys_list)):\n",
    "    print(milk_yield [keys_list[i]])\n",
    "\n",
    "    #printing number of times cows has produced milk\n",
    "    print(len(milk_yield[keys_list[i]])) "
   ]
  },
  {
   "cell_type": "markdown",
   "id": "24dd4ec0",
   "metadata": {},
   "source": [
    "## TASK 2 – Calculate the statistics"
   ]
  },
  {
   "cell_type": "markdown",
   "id": "3a885dc5",
   "metadata": {},
   "source": [
    "Using your recorded data from TASK 1, calculate and display the total weekly volume of milk for\n",
    "the herd to the nearest whole litre. Calculate and display the average yield per cow in a week to\n",
    "the nearest whole litre.\n"
   ]
  },
  {
   "cell_type": "code",
   "execution_count": 225,
   "id": "6f39fd6b",
   "metadata": {},
   "outputs": [
    {
     "name": "stdout",
     "output_type": "stream",
     "text": [
      "The average yield for cow 001 for a week =  6.64 Litres\n"
     ]
    }
   ],
   "source": [
    "# Calculating the average of milk produced by Cow 1\n",
    "average1 = 0\n",
    "\n",
    "for i in range(14):\n",
    "    avg = (milk_yield[keys_list[0]][i])/len(milk_yield[keys_list[0]])\n",
    "    average1 +=avg\n",
    "\n",
    "# printing average upto 2 decimal places\n",
    "print(f\"The average yield for cow {keys_list[0]} for a week = \", \"{:.2f}\".format(average1), \"Litres\")\n",
    "    "
   ]
  },
  {
   "cell_type": "code",
   "execution_count": 226,
   "id": "a7dd1d60",
   "metadata": {},
   "outputs": [
    {
     "name": "stdout",
     "output_type": "stream",
     "text": [
      "The average yield for cow 002 for a week =  7.50 Litres\n"
     ]
    }
   ],
   "source": [
    "# Calculating the average of milk produced by Cow 2\n",
    "average2 = 0\n",
    "\n",
    "for i in range(14):\n",
    "    avg = (milk_yield[keys_list[1]][i])/len(milk_yield[keys_list[1]])\n",
    "    average2 +=avg\n",
    "    \n",
    "# printing average upto 2 decimal places    \n",
    "print(f\"The average yield for cow {keys_list[1]} for a week = \", \"{:.2f}\".format(average2), \"Litres\")\n",
    "    "
   ]
  },
  {
   "cell_type": "code",
   "execution_count": 227,
   "id": "aff8e2f1",
   "metadata": {},
   "outputs": [
    {
     "name": "stdout",
     "output_type": "stream",
     "text": [
      "The average yield for cow 003 for a week =  7.93 Litres\n"
     ]
    }
   ],
   "source": [
    "# Calculating the average of milk produced by Cow 3\n",
    "average3 = 0\n",
    "\n",
    "for i in range(14):\n",
    "    avg = (milk_yield[keys_list[2]][i])/len(milk_yield[keys_list[2]])\n",
    "    average3 +=avg\n",
    "\n",
    "# printing average upto 2 decimal places\n",
    "print(f\"The average yield for cow {keys_list[2]} for a week = \", \"{:.2f}\".format(average3), \"Litres\")\n",
    "    "
   ]
  },
  {
   "cell_type": "code",
   "execution_count": 228,
   "id": "a72b3ffa",
   "metadata": {},
   "outputs": [
    {
     "name": "stdout",
     "output_type": "stream",
     "text": [
      "Total milk given by the cow 001 is :  93 Litres\n"
     ]
    }
   ],
   "source": [
    "# Calculating total milk given by Cow 1\n",
    "milk_yield[keys_list[0]]\n",
    "\n",
    "total_cow1_milk = sum(milk_yield[keys_list[0]])   # sum() adds all the list elements\n",
    "\n",
    "print(f\"Total milk given by the cow {keys_list[0]} is : \", total_cow1_milk, \"Litres\")  # displaying result"
   ]
  },
  {
   "cell_type": "code",
   "execution_count": 229,
   "id": "6021d278",
   "metadata": {},
   "outputs": [
    {
     "name": "stdout",
     "output_type": "stream",
     "text": [
      "Total milk given by the cow 002 is :  105 Litres\n"
     ]
    }
   ],
   "source": [
    "# Calculating total milk given by Cow 2\n",
    "milk_yield[keys_list[1]]\n",
    "\n",
    "total_cow2_milk = sum(milk_yield[keys_list[1]])   # sum() adds all the list elements\n",
    "\n",
    "print(f\"Total milk given by the cow {keys_list[1]} is : \", total_cow2_milk, \"Litres\")  # displaying result"
   ]
  },
  {
   "cell_type": "code",
   "execution_count": 230,
   "id": "70d13100",
   "metadata": {},
   "outputs": [
    {
     "name": "stdout",
     "output_type": "stream",
     "text": [
      "Total milk given by the cow 003 is :  111 Litres\n"
     ]
    }
   ],
   "source": [
    "# Calculating total milk given by Cow 3\n",
    "milk_yield[keys_list[2]]\n",
    "\n",
    "total_cow3_milk = sum(milk_yield[keys_list[2]])   # sum() adds all the list elements\n",
    "\n",
    "print(f\"Total milk given by the cow {keys_list[2]} is : \", total_cow3_milk, \"Litres\")  # displaying result"
   ]
  },
  {
   "cell_type": "code",
   "execution_count": 232,
   "id": "af0b6ef0",
   "metadata": {},
   "outputs": [
    {
     "name": "stdout",
     "output_type": "stream",
     "text": [
      "Total Milk recieved :  309 Litres\n"
     ]
    }
   ],
   "source": [
    "# Total Milk recieved from all cows\n",
    "total_milk = total_cow1_milk + total_cow2_milk + total_cow3_milk\n",
    "\n",
    "print(\"Total Milk recieved : \", total_milk, \"Litres\")   # displaying result"
   ]
  },
  {
   "cell_type": "markdown",
   "id": "1d606e48",
   "metadata": {},
   "source": [
    "## TASK 3 – Identify the most productive cow and cows that are producing a low volume of milk.\n"
   ]
  },
  {
   "cell_type": "markdown",
   "id": "c0ba7d4d",
   "metadata": {},
   "source": [
    "Extend TASK 2 to identify and display the identity code number and weekly yield of the cow that\n",
    "has produced the most milk. Also identify and display the identity code numbers of any cows\n",
    "with a yield of less than 12 litres of milk for four days or more in the week."
   ]
  },
  {
   "cell_type": "code",
   "execution_count": 233,
   "id": "2fd13b85",
   "metadata": {},
   "outputs": [
    {
     "name": "stdout",
     "output_type": "stream",
     "text": [
      "93 Litres\n"
     ]
    }
   ],
   "source": [
    "print(total_cow1_milk, \"Litres\")"
   ]
  },
  {
   "cell_type": "code",
   "execution_count": 234,
   "id": "a8884a9b",
   "metadata": {},
   "outputs": [
    {
     "name": "stdout",
     "output_type": "stream",
     "text": [
      "105 Litres\n"
     ]
    }
   ],
   "source": [
    "print(total_cow2_milk, \"Litres\")"
   ]
  },
  {
   "cell_type": "code",
   "execution_count": 235,
   "id": "732f150b",
   "metadata": {},
   "outputs": [
    {
     "name": "stdout",
     "output_type": "stream",
     "text": [
      "111 Litres\n"
     ]
    }
   ],
   "source": [
    "print(total_cow3_milk, \"Litres\")"
   ]
  },
  {
   "cell_type": "code",
   "execution_count": 236,
   "id": "db6b585f",
   "metadata": {},
   "outputs": [
    {
     "name": "stdout",
     "output_type": "stream",
     "text": [
      "Cow 003 has produced the most milk: \n",
      "[6, 9, 8, 7, 9, 8, 6, 8, 7, 9, 8, 9, 9, 8]\n"
     ]
    }
   ],
   "source": [
    "# Identifing Cow that has produced the most milk\n",
    "\n",
    "if total_cow1_milk > total_cow2_milk and total_cow1_milk > total_cow3_milk:\n",
    "    print(f\"Cow {keys_list[0]} has produced the most milk: \")\n",
    "    print(milk_yield[keys_list[0]])\n",
    "    \n",
    "elif total_cow2_milk > total_cow1_milk and total_cow2_milk > total_cow3_milk:\n",
    "    print(f\"Cow {keys_list[1]} has produced the most milk: \")\n",
    "    print(milk_yield[keys_list[1]])\n",
    "    \n",
    "elif total_cow3_milk > total_cow1_milk and total_cow3_milk > total_cow2_milk:\n",
    "    print(f\"Cow {keys_list[2]} has produced the most milk: \")\n",
    "    print(milk_yield[keys_list[2]])   "
   ]
  },
  {
   "cell_type": "code",
   "execution_count": 237,
   "id": "58caf90f",
   "metadata": {},
   "outputs": [],
   "source": [
    "# Identifing Cow that has produced less than 12 Litres of milk for the whole week\n",
    "\n",
    "if total_cow1_milk < 12:\n",
    "    print(f\"Cow {keys_list[0]} has produced less than 12 Liters of milk \")\n",
    "    \n",
    "if total_cow2_milk < 12:\n",
    "    print(f\"Cow {keys_list[1]} has produced less than 12 Liters of milk \")\n",
    "    \n",
    "if total_cow3_milk < 12:\n",
    "    print(f\"Cow {keys_list[2]} has produced less than 12 Liters of milk \")    "
   ]
  },
  {
   "cell_type": "code",
   "execution_count": null,
   "id": "8c87705f",
   "metadata": {},
   "outputs": [],
   "source": []
  }
 ],
 "metadata": {
  "kernelspec": {
   "display_name": "Python 3 (ipykernel)",
   "language": "python",
   "name": "python3"
  },
  "language_info": {
   "codemirror_mode": {
    "name": "ipython",
    "version": 3
   },
   "file_extension": ".py",
   "mimetype": "text/x-python",
   "name": "python",
   "nbconvert_exporter": "python",
   "pygments_lexer": "ipython3",
   "version": "3.11.5"
  }
 },
 "nbformat": 4,
 "nbformat_minor": 5
}
