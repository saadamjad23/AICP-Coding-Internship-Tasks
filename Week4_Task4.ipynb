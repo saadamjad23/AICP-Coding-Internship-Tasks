{
 "cells": [
  {
   "cell_type": "markdown",
   "id": "42c8f8f2",
   "metadata": {},
   "source": [
    "# AICP Internship Task Week 4"
   ]
  },
  {
   "cell_type": "markdown",
   "id": "406fd98d",
   "metadata": {},
   "source": [
    "An auction company has an interactive auction board at their sale rooms, which allows buyers\n",
    "to place bids at any time during the auction. Before the auction starts, the sellers place their\n",
    "items in the sale room with a unique number attached to each item (item number). The\n",
    "following details about each item need to be set up on the interactive auction board system:\n",
    "item number, number of bids, description and reserve price. The number of bids is initially set\n",
    "to zero.\n",
    "During the auction, buyers can look at the items in the sale room and then place a bid on the\n",
    "interactive auction board at the sale room. Each buyer is given a unique number for\n",
    "identification (buyer number). All the buyer needs to do is enter their buyer number, the item\n",
    "number and their bid. Their bid must be greater than any existing bids.\n",
    "At the end of the auction, the company checks all the items and marks those that have bids\n",
    "greater than the reserve as sold. Any items sold will incur a fee of 10% of the final bid to be paid\n",
    "to the auction company.\n"
   ]
  },
  {
   "cell_type": "markdown",
   "id": "fcc81948",
   "metadata": {},
   "source": [
    "Write and test a program or programs for the auction company.\n",
    "> - Your program or programs must include appropriate prompts for the entry of data, data must be validated on entry.\n",
    "> - Error messages and other output need to be set out clearly and understandably.\n",
    "> - All variables, constants and other identifiers must have meaningful names.\n",
    "\n",
    "You will need to complete these three tasks. Each task must be fully tested."
   ]
  },
  {
   "cell_type": "markdown",
   "id": "ddafa730",
   "metadata": {},
   "source": [
    "## Task 1 – Auction set up"
   ]
  },
  {
   "cell_type": "markdown",
   "id": "81025b00",
   "metadata": {},
   "source": [
    "For every item in the auction the item number, description and the reserve price should be\n",
    "recorded. The number of bids is set to zero. There must be at least 10 items in the auction."
   ]
  },
  {
   "cell_type": "markdown",
   "id": "2a1752d5",
   "metadata": {},
   "source": [
    "## Task 2 – Buyer bids.\n"
   ]
  },
  {
   "cell_type": "markdown",
   "id": "cf233453",
   "metadata": {},
   "source": [
    "A buyer should be able to find an item and view the item number, description and the current\n",
    "highest bid. A buyer can then enter their buyer number and bid, which must be higher than any\n",
    "previously recorded bids. Every time a new bid is recorded the number of bids for that item is\n",
    "increased by one. Buyers can bid for an item many times and they can bid for many items.\n"
   ]
  },
  {
   "cell_type": "markdown",
   "id": "f1b9b951",
   "metadata": {},
   "source": [
    "## Task 3 – At the end of the auction.\n"
   ]
  },
  {
   "cell_type": "markdown",
   "id": "ed7c76af",
   "metadata": {},
   "source": [
    "Using the results from TASK 2, identify items that have reached their reserve price, mark them\n",
    "as sold, calculate 10% of the final bid as the auction company fee and add this to the total fee\n",
    "for all sold items. Display this total fee. Display the item number and final bid for all the items\n",
    "with bids that have not reached their reserve price. Display the item number of any items that\n",
    "have received no bids. Display the number of items sold, the number of items that did not meet\n",
    "the reserve price and the number of items with no bids."
   ]
  },
  {
   "cell_type": "markdown",
   "id": "7373ce1b",
   "metadata": {},
   "source": [
    "## CODE:"
   ]
  },
  {
   "cell_type": "code",
   "execution_count": 1,
   "id": "1354f9eb",
   "metadata": {},
   "outputs": [
    {
     "name": "stdout",
     "output_type": "stream",
     "text": [
      "Enter item 1 number: 01\n",
      "Enter item 1 description: Black Mask\n",
      "Enter item 1 reserve price: 50\n",
      "Enter item 2 number: 02\n",
      "Enter item 2 description: Ben 10 Watch \n",
      "Enter item 2 reserve price: 150\n",
      "Enter item 3 number: 03\n",
      "Enter item 3 description: Teddy\n",
      "Enter item 3 reserve price: 300\n",
      "Enter item 4 number: 04\n",
      "Enter item 4 description: Charlie Cane\n",
      "Enter item 4 reserve price: 200\n",
      "Enter item 5 number: 05\n",
      "Enter item 5 description: Dragon Suit\n",
      "Enter item 5 reserve price: 500\n",
      "Enter item 6 number: 06\n",
      "Enter item 6 description: Spiderman Costume\n",
      "Enter item 6 reserve price: 1000\n",
      "Enter item 7 number: 07\n",
      "Enter item 7 description: Naruto Action Figure\n",
      "Enter item 7 reserve price: 1500\n",
      "Enter item 8 number: 08\n",
      "Enter item 8 description: Fairy Wingsa\n",
      "Enter item 8 reserve price: 2000\n",
      "Enter item 9 number: 09\n",
      "Enter item 9 description: NBA Basketball\n",
      "Enter item 9 reserve price: 3000\n",
      "Enter item 10 number: 10\n",
      "Enter item 10 description: Batman Mask\n",
      "Enter item 10 reserve price: 200\n",
      "Enter the item number you want to bid on (or type 'done' to finish): 05\n",
      "Enter your bid amount: 600\n",
      "Enter the item number you want to bid on (or type 'done' to finish): 01\n",
      "Enter your bid amount: 40\n",
      "Enter the item number you want to bid on (or type 'done' to finish): 02\n",
      "Enter your bid amount: 150\n",
      "Enter the item number you want to bid on (or type 'done' to finish): 10\n",
      "Enter your bid amount: 200\n",
      "Enter the item number you want to bid on (or type 'done' to finish): 09\n",
      "Enter your bid amount: 2500\n",
      "Enter the item number you want to bid on (or type 'done' to finish): 11\n",
      "Item not found.\n",
      "Enter the item number you want to bid on (or type 'done' to finish): done\n",
      "Sold Items:\n",
      "Item Number: 02, Final Bid: 150.0\n",
      "Item Number: 05, Final Bid: 600.0\n",
      "Item Number: 10, Final Bid: 200.0\n",
      "Total Auction Company Fee: 95.0\n",
      "Number of Items Sold: 3\n",
      "Number of Items Not Meeting Reserve: 2\n",
      "Number of Items with No Bids: 5\n"
     ]
    }
   ],
   "source": [
    "class Item:\n",
    "    def __init__(self, item_number, description, reserve_price):\n",
    "        self.item_number = item_number\n",
    "        self.description = description\n",
    "        self.reserve_price = reserve_price\n",
    "        self.highest_bid = 0\n",
    "        self.num_bids = 0\n",
    "        self.number_of_items = 10    \n",
    "        \n",
    "    def place_bid(self, bid_amount):\n",
    "        if bid_amount > self.highest_bid:\n",
    "            self.highest_bid = bid_amount\n",
    "            self.num_bids += 1\n",
    "            return True\n",
    "        else:\n",
    "            print(\"Bid must be higher than the current highest bid.\")\n",
    "            return False\n",
    "\n",
    "    def meets_reserve(self):\n",
    "        return self.highest_bid >= self.reserve_price\n",
    "\n",
    "\n",
    "class Buyer:\n",
    "    def __init__(self, buyer_number):\n",
    "        self.buyer_number = buyer_number\n",
    "\n",
    "\n",
    "class Auction:\n",
    "    def __init__(self):\n",
    "        self.items = []\n",
    "\n",
    "    def add_item(self, item):\n",
    "        self.items.append(item)\n",
    "\n",
    "    def display_items(self):\n",
    "        for item in self.items:\n",
    "            print(f\"Item Number: {item.item_number}, Description: {item.description}, Highest Bid: {item.highest_bid}\")\n",
    "\n",
    "    def display_sold_items(self):\n",
    "        total_fee = 0\n",
    "        num_items_sold = 0\n",
    "        num_items_not_met_reserve = 0\n",
    "        num_items_no_bids = 0\n",
    "\n",
    "        print(\"Sold Items:\")\n",
    "        for item in self.items:\n",
    "            if item.meets_reserve():\n",
    "                total_fee += item.highest_bid * 0.1\n",
    "                num_items_sold += 1\n",
    "                print(f\"Item Number: {item.item_number}, Final Bid: {item.highest_bid}\")\n",
    "            else:\n",
    "                if item.num_bids == 0:\n",
    "                    num_items_no_bids += 1\n",
    "                else:\n",
    "                    num_items_not_met_reserve += 1\n",
    "        print(f\"Total Auction Company Fee: {total_fee}\")\n",
    "        print(f\"Number of Items Sold: {num_items_sold}\")\n",
    "        print(f\"Number of Items Not Meeting Reserve: {num_items_not_met_reserve}\")\n",
    "        print(f\"Number of Items with No Bids: {num_items_no_bids}\")\n",
    "\n",
    "\n",
    "def main():\n",
    "    auction = Auction()\n",
    "\n",
    "    # Task 1 - Auction setup\n",
    "    for i in range(1, 11):\n",
    "        item_number = input(f\"Enter item {i} number: \")\n",
    "        description = input(f\"Enter item {i} description: \")\n",
    "        reserve_price = float(input(f\"Enter item {i} reserve price: \"))\n",
    "        item = Item(item_number, description, reserve_price)\n",
    "        auction.add_item(item)\n",
    "\n",
    "    # Task 2 - Buyer bids\n",
    "    while True:\n",
    "        item_number = input(\"Enter the item number you want to bid on (or type 'done' to finish): \")\n",
    "        if item_number.lower() == 'done':\n",
    "            break\n",
    "        found_item = None\n",
    "        for item in auction.items:\n",
    "            if item.item_number == item_number:\n",
    "                found_item = item\n",
    "                break\n",
    "        if found_item:\n",
    "            bid_amount = float(input(\"Enter your bid amount: \"))\n",
    "            found_item.place_bid(bid_amount)\n",
    "        else:\n",
    "            print(\"Item not found.\")\n",
    "\n",
    "    # Task 3 - At the end of the auction\n",
    "    auction.display_sold_items()\n",
    "\n",
    "\n",
    "if __name__ == \"__main__\":\n",
    "    main()\n"
   ]
  }
 ],
 "metadata": {
  "kernelspec": {
   "display_name": "Python 3 (ipykernel)",
   "language": "python",
   "name": "python3"
  },
  "language_info": {
   "codemirror_mode": {
    "name": "ipython",
    "version": 3
   },
   "file_extension": ".py",
   "mimetype": "text/x-python",
   "name": "python",
   "nbconvert_exporter": "python",
   "pygments_lexer": "ipython3",
   "version": "3.11.5"
  }
 },
 "nbformat": 4,
 "nbformat_minor": 5
}
