{
 "cells": [
  {
   "cell_type": "markdown",
   "id": "8547a485",
   "metadata": {},
   "source": [
    "# AICP Internship Task  5"
   ]
  },
  {
   "cell_type": "markdown",
   "id": "70186f8c",
   "metadata": {},
   "source": [
    "The organizer of a senior citizens’ club arranges outings for the members. For each of these outings, a\n",
    "coach is hired, meals at a restaurant are reserved and tickets for the theatre are booked. A program is\n",
    "required to work out the costs and provide a printed list showing everyone on the outing."
   ]
  },
  {
   "cell_type": "markdown",
   "id": "64a709df",
   "metadata": {},
   "source": [
    "Write and test a program for the club organizer.\n",
    "- Your program must include appropriate prompts for the entry of data.\n",
    "- Error messages and other outputs need to be set out clearly.\n",
    "- All variables, constants and other identifiers must have meaningful names.\n",
    "\n",
    "You will need to complete these three tasks. Each task must be fully tested.\n"
   ]
  },
  {
   "cell_type": "markdown",
   "id": "07a5d9cd",
   "metadata": {},
   "source": [
    "### TASK 1 – Work out the total cost of the outing.\n"
   ]
  },
  {
   "cell_type": "markdown",
   "id": "7e35ee76",
   "metadata": {},
   "source": [
    "The organizer finds out how many senior citizens would be interested in the outing. The program for\n",
    "TASK 1 works out the cost from this information.\n",
    "\n",
    "The minimum number of senior citizens needed for the outing to go ahead is 10; there cannot be more\n",
    "than 36 senior citizens on the outing. A minimum of two carers must go on the outing, with an additional\n",
    "carer needed if more than 24 senior citizens go on the outing. Carers do not have to pay anything for\n",
    "the outing. Work out the total cost and the cost per person for the senior citizens."
   ]
  },
  {
   "cell_type": "markdown",
   "id": "9cef9961",
   "metadata": {},
   "source": [
    "### TASK 2 – Record who is going on the outing and how much has been paid."
   ]
  },
  {
   "cell_type": "markdown",
   "id": "26934054",
   "metadata": {},
   "source": [
    "Using your results from TASK 1, record the names of the people on the outing and the amount they\n",
    "have paid; include the carers on the outing. If there are spare places on the coach then extra people\n",
    "can be added; they are charged the same price as the other senior citizens. Calculate the total amount\n",
    "of money collected. Print out a list of the people on the outing."
   ]
  },
  {
   "cell_type": "markdown",
   "id": "1864ac2a",
   "metadata": {},
   "source": [
    "### TASK 3 – Identify the break-even point or profit that will be made on the outing.\n"
   ]
  },
  {
   "cell_type": "markdown",
   "id": "dd5ecf69",
   "metadata": {},
   "source": [
    "Show whether the outing has made a profit or has broken even using the estimated cost from TASK 1\n",
    "and the money collected from TASK 2."
   ]
  },
  {
   "cell_type": "markdown",
   "id": "2839979a",
   "metadata": {},
   "source": [
    "## Code:"
   ]
  },
  {
   "cell_type": "code",
   "execution_count": 1,
   "id": "3a2ce66c",
   "metadata": {},
   "outputs": [
    {
     "name": "stdout",
     "output_type": "stream",
     "text": [
      "Enter the number of seniors attending the outing: 12\n",
      "\n",
      "Total cost for 12 seniors: $185.00\n",
      "Cost per person for seniors: $15.42\n",
      "Enter the names and payments for seniors:\n",
      "Name of senior 1: Ahsan\n",
      "Payment made by Ahsan: $20\n",
      "Name of senior 2: Ehzaz\n",
      "Payment made by Ehzaz: $13\n",
      "Name of senior 3: Okasha\n",
      "Payment made by Okasha: $15\n",
      "Name of senior 4: Maaz\n",
      "Payment made by Maaz: $13\n",
      "Name of senior 5: Ali\n",
      "Payment made by Ali: $16\n",
      "Name of senior 6: Nouman\n",
      "Payment made by Nouman: $35\n",
      "Name of senior 7: Tariq\n",
      "Payment made by Tariq: $25\n",
      "Name of senior 8: \n",
      "Payment made by : $19\n",
      "Name of senior 9: Zarrar\n",
      "Payment made by Zarrar: $8\n",
      "Name of senior 10: adeel\n",
      "Payment made by adeel: $6\n",
      "Name of senior 11: saad\n",
      "Payment made by saad: $26\n",
      "Name of senior 12: Umer\n",
      "Payment made by Umer: $23\n",
      "Enter the names and payments for carers:\n",
      "Name of carer 1: Saad\n",
      "Name of carer 2: Fawad\n",
      "\n",
      "List of people on the outing:\n",
      "Ahsan: Paid $20.00\n",
      "Ehzaz: Paid $13.00\n",
      "Okasha: Paid $15.00\n",
      "Maaz: Paid $13.00\n",
      "Ali: Paid $16.00\n",
      "Nouman: Paid $35.00\n",
      "Tariq: Paid $25.00\n",
      ": Paid $19.00\n",
      "Zarrar: Paid $8.00\n",
      "adeel: Paid $6.00\n",
      "saad: Paid $26.00\n",
      "Umer: Paid $23.00\n",
      "Saad: Paid $0.00 (carer)\n",
      "Fawad: Paid $0.00 (carer)\n",
      "\n",
      "The outing has broken even or made a profit.\n",
      "Profit: $34.00\n"
     ]
    }
   ],
   "source": [
    "# Constants for cost calculation\n",
    "COST_RANGES = {\n",
    "    (12, 16): (150, 14.00, 21.00),\n",
    "    (17, 26): (190, 13.50, 20.00),\n",
    "    (27, 39): (225, 13.00, 19.00)\n",
    "}\n",
    "CARER_THRESHOLD = 24\n",
    "CARER_COST = 0  # Carers don't have to pay\n",
    "\n",
    "def calculate_cost(num_seniors):\n",
    "    # Ensure the number of seniors is within the allowed range\n",
    "    if num_seniors < 10 or num_seniors > 36:\n",
    "        print(\"Number of seniors must be between 10 and 36.\")\n",
    "        return None, None\n",
    "    \n",
    "    # Find the cost range\n",
    "    for (lower, upper), (coach_cost, meal_cost, ticket_cost) in COST_RANGES.items():\n",
    "        if lower <= num_seniors <= upper:\n",
    "            # Calculate total cost\n",
    "            total_cost = coach_cost + meal_cost + ticket_cost\n",
    "            # Calculate cost per person for seniors\n",
    "            cost_per_person = total_cost / num_seniors\n",
    "            return total_cost, cost_per_person\n",
    "\n",
    "def record_outing(num_seniors, total_cost, cost_per_person):\n",
    "    # Record names and payments for seniors and carers\n",
    "    seniors = []\n",
    "    carers = []\n",
    "    print(\"Enter the names and payments for seniors:\")\n",
    "    for i in range(num_seniors):\n",
    "        name = input(f\"Name of senior {i+1}: \")\n",
    "        payment = float(input(f\"Payment made by {name}: $\"))\n",
    "        seniors.append((name, payment))\n",
    "    \n",
    "    num_carers = 2\n",
    "    if num_seniors > CARER_THRESHOLD:\n",
    "        num_carers += 1\n",
    "    \n",
    "    print(\"Enter the names and payments for carers:\")\n",
    "    for i in range(num_carers):\n",
    "        name = input(f\"Name of carer {i+1}: \")\n",
    "        carers.append((name, CARER_COST))\n",
    "    \n",
    "    total_money_collected = sum(payment for _, payment in seniors) + sum(payment for _, payment in carers)\n",
    "    \n",
    "    # Print list of people on the outing\n",
    "    print(\"\\nList of people on the outing:\")\n",
    "    for name, payment in seniors:\n",
    "        print(f\"{name}: Paid ${payment:.2f}\")\n",
    "    for name, _ in carers:\n",
    "        print(f\"{name}: Paid $0.00 (carer)\")\n",
    "\n",
    "    return total_money_collected\n",
    "\n",
    "def calculate_profit(total_cost, total_money_collected):\n",
    "    if total_money_collected >= total_cost:\n",
    "        print(\"\\nThe outing has broken even or made a profit.\")\n",
    "        profit = total_money_collected - total_cost\n",
    "        print(f\"Profit: ${profit:.2f}\")\n",
    "    else:\n",
    "        print(\"\\nThe outing has incurred a loss.\")\n",
    "        loss = total_cost - total_money_collected\n",
    "        print(f\"Loss: ${loss:.2f}\")\n",
    "\n",
    "# Main program\n",
    "def main():\n",
    "    num_seniors = int(input(\"Enter the number of seniors attending the outing: \"))\n",
    "    total_cost, cost_per_person = calculate_cost(num_seniors)\n",
    "    if total_cost is not None:\n",
    "        print(f\"\\nTotal cost for {num_seniors} seniors: ${total_cost:.2f}\")\n",
    "        print(f\"Cost per person for seniors: ${cost_per_person:.2f}\")\n",
    "        total_money_collected = record_outing(num_seniors, total_cost, cost_per_person)\n",
    "        calculate_profit(total_cost, total_money_collected)\n",
    "\n",
    "if __name__ == \"__main__\":\n",
    "    main()\n"
   ]
  },
  {
   "cell_type": "markdown",
   "id": "f433bf56",
   "metadata": {},
   "source": []
  }
 ],
 "metadata": {
  "kernelspec": {
   "display_name": "Python 3 (ipykernel)",
   "language": "python",
   "name": "python3"
  },
  "language_info": {
   "codemirror_mode": {
    "name": "ipython",
    "version": 3
   },
   "file_extension": ".py",
   "mimetype": "text/x-python",
   "name": "python",
   "nbconvert_exporter": "python",
   "pygments_lexer": "ipython3",
   "version": "3.11.5"
  }
 },
 "nbformat": 4,
 "nbformat_minor": 5
}
