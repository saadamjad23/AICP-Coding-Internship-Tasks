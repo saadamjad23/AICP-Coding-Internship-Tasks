{
 "cells": [
  {
   "cell_type": "markdown",
   "id": "f4600662",
   "metadata": {},
   "source": [
    "# AICP Internship Task Week 6"
   ]
  },
  {
   "cell_type": "markdown",
   "id": "43a471cb",
   "metadata": {},
   "source": [
    "The manager of a building materials delivery service needs a program to check the contents and\n",
    "weight of sacks to ensure that correct orders are made up for delivery. A price for the order will be\n",
    "calculated.\n",
    "\n",
    "Write and test a program for the manager.\n",
    "- Your program must include appropriate prompts for the entry of data.\n",
    "- Error messages and other output need to be set out clearly.\n",
    "- All variables, constants and other identifiers must have meaningful names.\n",
    "\n",
    "You will need to complete these three tasks. Each task must be fully tested."
   ]
  },
  {
   "cell_type": "markdown",
   "id": "72e78070",
   "metadata": {},
   "source": [
    "### TASK 1 – Check the contents and weight of a single sack"
   ]
  },
  {
   "cell_type": "markdown",
   "id": "d4745ede",
   "metadata": {},
   "source": [
    "Each sack must obey the following rules to be accepted:\n",
    "\n",
    "- contain cement, gravel or sand, with a letter on the side for easy identification\n",
    "  - C - cement\n",
    "  - G - gravel\n",
    "  - S - sand\n",
    "- sand or gravel must weigh over 49.9 and under 50.1 kilograms\n",
    "- cement must weigh over 24.9 and under 25.1 kilograms\n",
    "\n",
    "Input and store the weight and contents for one sack. The contents must be checked and an incorrect\n",
    "sack rejected. The weight must be validated on entry and an overweight or underweight sack rejected.\n",
    "Output the contents and weight of an accepted sack. If a sack is rejected, output the reason(s).\n"
   ]
  },
  {
   "cell_type": "markdown",
   "id": "1665c7c5",
   "metadata": {},
   "source": [
    "### TASK 2 – Check a customer’s order for delivery"
   ]
  },
  {
   "cell_type": "markdown",
   "id": "6f3a0cf0",
   "metadata": {},
   "source": [
    "Input and store the number of sacks of each type required for the order. Use TASK 1 to check the\n",
    "contents and weight of each sack. Ensure that the delivery contains the correct number and type of\n",
    "sacks for the order.\n",
    "\n",
    "Output the total weight of the order.\n",
    "\n",
    "Output the number of sacks rejected from the order."
   ]
  },
  {
   "cell_type": "markdown",
   "id": "0079df0d",
   "metadata": {},
   "source": [
    "### TASK 3 – Calculate the price for a customer’s order"
   ]
  },
  {
   "cell_type": "markdown",
   "id": "0f4ac050",
   "metadata": {},
   "source": [
    "Extend TASK 2 to calculate a price for an order. Prices for the sacks are as follows:\n",
    "- regular price for each sack\n",
    "   - cement, 3 Dollar\n",
    "   - gravel, 2 Dollar\n",
    "   - sand, 2 Dollar\n",
    "- discount price for a special pack containing 1 sack of cement, 2 sacks of sand and 2 sacks of gravel,\n",
    "$10\n",
    "Calculate and output the regular price for the order. Check how many special packs are in the order. If\n",
    "a discount price applies then output the new price for the order and the amount saved."
   ]
  },
  {
   "cell_type": "code",
   "execution_count": 1,
   "id": "5ab23307",
   "metadata": {},
   "outputs": [
    {
     "name": "stdout",
     "output_type": "stream",
     "text": [
      "Enter the number of cement sacks: 5\n",
      "Enter the number of gravel sacks: 4\n",
      "Enter the number of sand sacks: 2\n",
      "Enter weight for C sack: 25\n",
      "Sack accepted: C - 25.0 kg\n",
      "Enter weight for C sack: 20\n",
      "Sack rejected: Incorrect weight for cement sack.\n",
      "Enter weight for C sack: 25\n",
      "Sack accepted: C - 25.0 kg\n",
      "Enter weight for C sack: 24\n",
      "Sack rejected: Incorrect weight for cement sack.\n",
      "Enter weight for C sack: 24.9\n",
      "Sack rejected: Incorrect weight for cement sack.\n",
      "Enter weight for G sack: 25\n",
      "Sack rejected: Incorrect weight for gravel or sand sack.\n",
      "Enter weight for G sack: 50\n",
      "Sack accepted: G - 50.0 kg\n",
      "Enter weight for G sack: 50\n",
      "Sack accepted: G - 50.0 kg\n",
      "Enter weight for G sack: 50\n",
      "Sack accepted: G - 50.0 kg\n",
      "Enter weight for S sack: 50\n",
      "Sack accepted: S - 50.0 kg\n",
      "Enter weight for S sack: 50\n",
      "Sack accepted: S - 50.0 kg\n",
      "\n",
      "Total weight of the order: 300.0 kg\n",
      "Number of sacks rejected from the order: 4\n",
      "Special pack applied! New price: $6. You saved $10.\n"
     ]
    }
   ],
   "source": [
    "# Constants for weight ranges and prices\n",
    "WEIGHT_RANGES = {\n",
    "    'C': (24.9, 25.1),\n",
    "    'G': (49.9, 50.1),\n",
    "    'S': (49.9, 50.1)\n",
    "}\n",
    "PRICE_PER_SACK = {\n",
    "    'C': 3,\n",
    "    'G': 2,\n",
    "    'S': 2,\n",
    "    'Special': 10\n",
    "}\n",
    "\n",
    "def check_sack(weight, contents):\n",
    "    # Check weight\n",
    "    if contents == 'C' and not (24.9 < weight < 25.1):\n",
    "        return False, \"Incorrect weight for cement sack.\"\n",
    "    elif contents in ['G', 'S'] and not (49.9 < weight < 50.1):\n",
    "        return False, \"Incorrect weight for gravel or sand sack.\"\n",
    "    \n",
    "    # Check contents\n",
    "    if contents not in ['C', 'G', 'S']:\n",
    "        return False, \"Invalid contents code.\"\n",
    "    \n",
    "    return True, None\n",
    "\n",
    "def check_order(order):\n",
    "    total_weight = 0\n",
    "    sacks_rejected = 0\n",
    "    for contents, quantity in order.items():\n",
    "        for _ in range(quantity):\n",
    "            weight = float(input(f\"Enter weight for {contents} sack: \"))\n",
    "            valid, reason = check_sack(weight, contents)\n",
    "            if not valid:\n",
    "                print(f\"Sack rejected: {reason}\")\n",
    "                sacks_rejected += 1\n",
    "            else:\n",
    "                total_weight += weight\n",
    "                print(f\"Sack accepted: {contents} - {weight} kg\")\n",
    "    return total_weight, sacks_rejected\n",
    "\n",
    "def calculate_price(order):\n",
    "    regular_price = 0\n",
    "    special_packs = min(order.get('C', 0), order.get('G', 0) // 2, order.get('S', 0) // 2)\n",
    "    regular_price += (order.get('C', 0) - special_packs) * PRICE_PER_SACK['C']\n",
    "    regular_price += (order.get('G', 0) - 2 * special_packs) * PRICE_PER_SACK['G']\n",
    "    regular_price += (order.get('S', 0) - 2 * special_packs) * PRICE_PER_SACK['S']\n",
    "    discount_price = regular_price - special_packs * PRICE_PER_SACK['Special']\n",
    "    \n",
    "    if special_packs > 0:\n",
    "        print(f\"Special pack applied! New price: ${discount_price}. You saved ${special_packs * PRICE_PER_SACK['Special']}.\")\n",
    "    else:\n",
    "        print(f\"Regular price: ${regular_price}\")\n",
    "    \n",
    "# Main program\n",
    "def main():\n",
    "    order = {}\n",
    "    order['C'] = int(input(\"Enter the number of cement sacks: \"))\n",
    "    order['G'] = int(input(\"Enter the number of gravel sacks: \"))\n",
    "    order['S'] = int(input(\"Enter the number of sand sacks: \"))\n",
    "    \n",
    "    total_weight, sacks_rejected = check_order(order)\n",
    "    print(f\"\\nTotal weight of the order: {total_weight} kg\")\n",
    "    print(f\"Number of sacks rejected from the order: {sacks_rejected}\")\n",
    "    \n",
    "    calculate_price(order)\n",
    "\n",
    "if __name__ == \"__main__\":\n",
    "    main()\n"
   ]
  },
  {
   "cell_type": "code",
   "execution_count": null,
   "id": "cffe75b6",
   "metadata": {},
   "outputs": [],
   "source": []
  }
 ],
 "metadata": {
  "kernelspec": {
   "display_name": "Python 3 (ipykernel)",
   "language": "python",
   "name": "python3"
  },
  "language_info": {
   "codemirror_mode": {
    "name": "ipython",
    "version": 3
   },
   "file_extension": ".py",
   "mimetype": "text/x-python",
   "name": "python",
   "nbconvert_exporter": "python",
   "pygments_lexer": "ipython3",
   "version": "3.11.5"
  }
 },
 "nbformat": 4,
 "nbformat_minor": 5
}
