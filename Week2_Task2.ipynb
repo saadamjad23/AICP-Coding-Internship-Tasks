{
 "cells": [
  {
   "cell_type": "markdown",
   "id": "dd26361a",
   "metadata": {},
   "source": [
    "# AICP Internship Task Week 2"
   ]
  },
  {
   "cell_type": "markdown",
   "id": "945ac4d2",
   "metadata": {},
   "source": [
    "A car park payment system allows customers to select the number of hours to leave their car in\n",
    "the car park. The customer will get a discount if they enter their frequent parking number\n",
    "correctly. The system calculates and displays the amount the customer must pay. The price of\n",
    "parking, the number of hours the customer can enter, and any discount depend upon the day of\n",
    "the week and the arrival time. The number of hours entered is a whole number. The price per\n",
    "hour is calculated using the price in force at the arrival time. No parking is allowed between\n",
    "Midnight and 08:00."
   ]
  },
  {
   "cell_type": "markdown",
   "id": "29fe6557",
   "metadata": {},
   "source": [
    "A frequent parking number can be entered for discounted parking. This number consists of 4\n",
    "digits and a check digit that is calculated using a modulo 11 check digit calculation. A discount of\n",
    "50% is available for arrival times from 16:00 to Midnight; the discount is 10% at all other arrival\n",
    "times.\n"
   ]
  },
  {
   "cell_type": "markdown",
   "id": "bd072d75",
   "metadata": {},
   "source": [
    "Write and test a program or program to simulate the car park payment system.\n"
   ]
  },
  {
   "cell_type": "markdown",
   "id": "5dde4445",
   "metadata": {},
   "source": [
    "> - Your program or programs must include appropriate prompts for the entry of data; data must be validated on entry.\n",
    "> - Error messages and other outputs need to be set out clearly and understandably.\n",
    "> - All variables, constants, and other identifiers must have meaningful names.\n",
    "\n",
    "You will need to complete these three tasks. Each task must be fully tested.\n"
   ]
  },
  {
   "cell_type": "code",
   "execution_count": 78,
   "id": "add1dbcf",
   "metadata": {},
   "outputs": [],
   "source": [
    "# Manual according to which car parking will be managed\n",
    "Manual = {\n",
    "    'Sunday': {'1st Time': {'max_hours' : 8, 'price_per_hour' : 2.00},\n",
    "               '2nd Time': {'max_hours' : 8, 'price_per_hour' : 2.00}},\n",
    "    \n",
    "    'Monday': {'1st Time': {'max_hours' : 2, 'price_per_hour' : 10.00},\n",
    "               '2nd Time': {'max_hours' : 8, 'price_per_hour' : 2.00}},\n",
    "    \n",
    "    'Tuesday': {'1st Time': {'max_hours' : 2, 'price_per_hour' : 10.00},\n",
    "               '2nd Time': {'max_hours' : 8, 'price_per_hour' : 2.00}},\n",
    "    \n",
    "    'Wednesday': {'1st Time': {'max_hours' : 2, 'price_per_hour' : 10.00},\n",
    "               '2nd Time': {'max_hours' : 8, 'price_per_hour' : 2.00}},\n",
    "    \n",
    "    'Thursday': {'1st Time': {'max_hours' : 2, 'price_per_hour' : 10.00},\n",
    "               '2nd Time': {'max_hours' : 8, 'price_per_hour' : 2.00}},\n",
    "\n",
    "    'Friday': {'1st Time': {'max_hours' : 2, 'price_per_hour' : 10.00},\n",
    "               '2nd Time': {'max_hours' : 8, 'price_per_hour' : 2.00}},\n",
    "\n",
    "    'Saturday': {'1st Time': {'max_hours' : 4, 'price_per_hour' : 3.00},\n",
    "               '2nd Time': {'max_hours' : 8, 'price_per_hour' : 2.00}}\n",
    "}"
   ]
  },
  {
   "cell_type": "code",
   "execution_count": 79,
   "id": "fa925874",
   "metadata": {},
   "outputs": [
    {
     "name": "stdout",
     "output_type": "stream",
     "text": [
      "{'max_hours': 8, 'price_per_hour': 2.0}\n"
     ]
    }
   ],
   "source": [
    "print(Manual['Monday']['2nd Time'])"
   ]
  },
  {
   "cell_type": "code",
   "execution_count": 80,
   "id": "3180e480",
   "metadata": {},
   "outputs": [],
   "source": [
    "# modulo11 Check Calculator\n",
    "def modulo11_check(num):\n",
    "    number = int(num)\n",
    "    sum = 0\n",
    "    for weight in range(1, 5):\n",
    "        digit = number%10\n",
    "        sum = sum + (digit * weight)\n",
    "        number = int(number/10)\n",
    "   \n",
    "    if sum % 11 == 0:\n",
    "        if Time == '2nd Time':\n",
    "            discounted_price = Price - Price * 0.5 \n",
    "            print(\"Discounted Price is : Rs\", discounted_price)\n",
    "            \n",
    "        else:\n",
    "            discounted_price = Price - Price * 0.1 \n",
    "            print(\"Discounted Price is : Rs\", discounted_price)\n",
    "        \n",
    "    else:\n",
    "        print('Wrong Frequent Client Number')\n",
    "        cost(Price)"
   ]
  },
  {
   "cell_type": "markdown",
   "id": "d144dcbb",
   "metadata": {},
   "source": [
    "## Task 1 – Calculating the price to park.\n"
   ]
  },
  {
   "cell_type": "markdown",
   "id": "ce5a7369",
   "metadata": {},
   "source": [
    "A customer inputs the day, the hour of arrival excluding minutes (for example 15:45 would be\n",
    "15), the number of hours to leave their car, and a frequent parking number if available. If the\n",
    "frequent parking number has an incorrect check digit, then no discount can be applied. The\n",
    "price to park, based on the day, the hour of arrival, the number of hours of parking required\n",
    "and any discount available, is calculated and displayed.\n"
   ]
  },
  {
   "cell_type": "markdown",
   "id": "b4600de0",
   "metadata": {},
   "source": [
    "#### Day Of the Week"
   ]
  },
  {
   "cell_type": "code",
   "execution_count": 81,
   "id": "23ccf255",
   "metadata": {},
   "outputs": [
    {
     "name": "stdout",
     "output_type": "stream",
     "text": [
      "Enter Day : (Monday, Tuesday, Wednesday, Thursday, Friday, Saturday, Sunday)\n",
      "Monday\n"
     ]
    }
   ],
   "source": [
    "# inputs day of week\n",
    "day_of_week = input(\"Enter Day : (Monday, Tuesday, Wednesday, Thursday, Friday, Saturday, Sunday)\\n\")\n",
    "day_of_week = day_of_week.capitalize()"
   ]
  },
  {
   "cell_type": "markdown",
   "id": "618ae161",
   "metadata": {},
   "source": [
    "#### Arrival Hour"
   ]
  },
  {
   "cell_type": "code",
   "execution_count": 82,
   "id": "666d3838",
   "metadata": {},
   "outputs": [
    {
     "name": "stdout",
     "output_type": "stream",
     "text": [
      "Enter your Arrival Hour (0-24)(No parking is allowed between Midnight and 08:00):\n",
      " 5\n",
      "Parking Not allowed\n"
     ]
    }
   ],
   "source": [
    "while True:\n",
    "    arrival_hour = int(input(\"Enter your Arrival Hour (0-24)(No parking is allowed between Midnight and 08:00):\\n \"))\n",
    "        \n",
    "    if arrival_hour >= 8 and arrival_hour <= 15:\n",
    "        Time = '1st Time'\n",
    "        break\n",
    "\n",
    "    elif arrival_hour >= 16 and arrival_hour <= 24:\n",
    "        Time = '2nd Time'\n",
    "        break\n",
    "\n",
    "    elif arrival_hour >= 1 and arrival_hour < 8:\n",
    "        print('Parking Not allowed')\n",
    "        break\n",
    "\n",
    "    else :\n",
    "        print('Wrong Input. Please Input again. ')\n"
   ]
  },
  {
   "cell_type": "markdown",
   "id": "71de1191",
   "metadata": {},
   "source": [
    "#### Number of Hours to Leave Car"
   ]
  },
  {
   "cell_type": "code",
   "execution_count": 83,
   "id": "49031af4",
   "metadata": {},
   "outputs": [
    {
     "name": "stdout",
     "output_type": "stream",
     "text": [
      "Enter Number of Hours to park the car : \n",
      "3\n",
      "Sorry Sir, Parking is allowed only for  2  hours\n",
      "Would you like to park? (press 'no' to leave) : 2\n"
     ]
    }
   ],
   "source": [
    "while True:\n",
    "        \n",
    "    number_of_hours = int(input(\"Enter Number of Hours to park the car : \\n\"))\n",
    "\n",
    "    if number_of_hours > int(Manual[day_of_week][Time]['max_hours']):\n",
    "        print('Sorry Sir, Parking is allowed only for ', Manual[day_of_week][Time]['max_hours'], ' hours')\n",
    "        choice = input(\"Would you like to park? (press 'no' to leave) : \")\n",
    "        if choice.lower() == 'yes':\n",
    "            print('Enter Again!')\n",
    "\n",
    "        else:\n",
    "            number_of_hours = 0\n",
    "            break\n",
    "\n",
    "    else:\n",
    "        break        "
   ]
  },
  {
   "cell_type": "markdown",
   "id": "39d46585",
   "metadata": {},
   "source": [
    "#### Price Calculation"
   ]
  },
  {
   "cell_type": "code",
   "execution_count": 84,
   "id": "971090fc",
   "metadata": {},
   "outputs": [],
   "source": [
    "def cost(price):\n",
    "        \n",
    "    print(\"Sir your Price of Parking is :Rs\", price)"
   ]
  },
  {
   "cell_type": "code",
   "execution_count": 85,
   "id": "5e7434f4",
   "metadata": {},
   "outputs": [
    {
     "name": "stdout",
     "output_type": "stream",
     "text": [
      "{'max_hours': 2, 'price_per_hour': 10.0}\n"
     ]
    }
   ],
   "source": [
    "print(Manual[day_of_week][Time])"
   ]
  },
  {
   "cell_type": "code",
   "execution_count": 86,
   "id": "fec80307",
   "metadata": {},
   "outputs": [
    {
     "name": "stdout",
     "output_type": "stream",
     "text": [
      "Sir your Price of Parking is :Rs 0.0\n"
     ]
    }
   ],
   "source": [
    "Price = Manual[day_of_week][Time]['price_per_hour'] * number_of_hours\n",
    "cost(Price)"
   ]
  },
  {
   "cell_type": "markdown",
   "id": "4844695c",
   "metadata": {},
   "source": [
    "#### Frequent Car Number"
   ]
  },
  {
   "cell_type": "code",
   "execution_count": 87,
   "id": "9706e263",
   "metadata": {},
   "outputs": [],
   "source": [
    "def FCN():\n",
    "    question = input(\"Do you have a Frequent Car Number (Yes/No) : \")\n",
    "    if question.lower() == 'yes':\n",
    "        frequent_car_number = input(\"Enter 5 Digit Frequent Car Number : \")\n",
    "\n",
    "        if len(frequent_car_number) > 5 or len(frequent_car_number) < 5:\n",
    "            print('Wrong Number')\n",
    "\n",
    "        elif len(frequent_car_number) == 5:\n",
    "            modulo11_check(frequent_car_number)\n",
    "            \n",
    "    elif question.lower() == 'no' :\n",
    "        cost(Price)"
   ]
  },
  {
   "cell_type": "code",
   "execution_count": 88,
   "id": "e79d60a9",
   "metadata": {},
   "outputs": [
    {
     "name": "stdout",
     "output_type": "stream",
     "text": [
      "Do you have a Frequent Car Number (Yes/No) : no\n",
      "Sir your Price of Parking is :Rs 0.0\n"
     ]
    }
   ],
   "source": [
    "# using function inside main()\n",
    "FCN()"
   ]
  },
  {
   "cell_type": "markdown",
   "id": "63010d01",
   "metadata": {},
   "source": [
    "## Task 2 – Keeping a total of the payments."
   ]
  },
  {
   "cell_type": "markdown",
   "id": "e5215c47",
   "metadata": {},
   "source": [
    "Extend Task 1 to keep a daily total of payments made for parking. The daily total is zeroed at the\n",
    "start of the day. For the simulation, each customer inputs the amount paid, this must be greater\n",
    "than or equal to the amount displayed. There is no change given so the amount input may\n",
    "exceed the amount displayed. Each customer payment is added to the daily total, and this total\n",
    "is displayed at the end of the day.\n"
   ]
  },
  {
   "cell_type": "code",
   "execution_count": 89,
   "id": "4770ba7b",
   "metadata": {},
   "outputs": [
    {
     "name": "stdout",
     "output_type": "stream",
     "text": [
      "Enter Day : Sunday\n",
      "Enter number of customers appeared on Sunday : 3\n"
     ]
    }
   ],
   "source": [
    "daily_total = 0                            # calculates the total amount collected on a day\n",
    "amount_by_customers = []                   # stores price paid by each customer in a day \n",
    "day_of_week = input(\"Enter Day : \")        # Day of week\n",
    "day_of_week = day_of_week.capitalize()\n",
    "number_of_customers = int(input(f\"Enter number of customers appeared on {day_of_week} : \"))"
   ]
  },
  {
   "cell_type": "code",
   "execution_count": 90,
   "id": "4626d06b",
   "metadata": {},
   "outputs": [],
   "source": [
    "amount_by_customers.clear()  # clears list in case any values are present "
   ]
  },
  {
   "cell_type": "code",
   "execution_count": 91,
   "id": "ca30c5fa",
   "metadata": {},
   "outputs": [
    {
     "name": "stdout",
     "output_type": "stream",
     "text": [
      "Customer 1\n",
      "Enter your Arrival Hour (0-24) (No parking is allowed between Midnight and 08:00):\n",
      " 9\n",
      "Enter Number of Hours to park the car :\n",
      " 2\n",
      "Do you have a Frequent Car Number (Yes/No) : no\n",
      "Sir your Price of Parking is :Rs 4.0\n",
      "Amount paid by the customer 1 : 5\n",
      "Customer 2\n",
      "Enter your Arrival Hour (0-24) (No parking is allowed between Midnight and 08:00):\n",
      " 9\n",
      "Enter Number of Hours to park the car :\n",
      " 2\n",
      "Do you have a Frequent Car Number (Yes/No) : yes\n",
      "Enter 5 Digit Frequent Car Number : 01236\n",
      "Discounted Price is : Rs 3.6\n",
      "Amount paid by the customer 2 : 5\n",
      "Customer 3\n",
      "Enter your Arrival Hour (0-24) (No parking is allowed between Midnight and 08:00):\n",
      " 14\n",
      "Enter Number of Hours to park the car :\n",
      " 5\n",
      "Do you have a Frequent Car Number (Yes/No) : yes\n",
      "Enter 5 Digit Frequent Car Number : 01234\n",
      "Wrong Frequent Client Number\n",
      "Sir your Price of Parking is :Rs 10.0\n",
      "Amount paid by the customer 3 : 10\n",
      "[5, 5, 10]\n"
     ]
    }
   ],
   "source": [
    "# Inputs Arrival Hour\n",
    "for i in range(number_of_customers):\n",
    "    print(f\"Customer {i+1}\")\n",
    "    while True:\n",
    "        arrival_hour = int(input(\"Enter your Arrival Hour (0-24) (No parking is allowed between Midnight and 08:00):\\n \"))\n",
    "\n",
    "        if arrival_hour >= 8 and arrival_hour <= 15:\n",
    "            Time = '1st Time'\n",
    "            break\n",
    "\n",
    "        elif arrival_hour >= 16 and arrival_hour <= 24:\n",
    "            Time = '2nd Time'\n",
    "            break\n",
    "\n",
    "        elif arrival_hour >= 1 and arrival_hour < 8:\n",
    "            print('Parking Not allowed')\n",
    "            break\n",
    "\n",
    "        else :\n",
    "            print('Wrong Input. Please Input again. ')\n",
    "\n",
    "# Inputs Number of Hours for car to be parked\n",
    "            \n",
    "    while True:\n",
    "\n",
    "        number_of_hours = int(input(\"Enter Number of Hours to park the car :\\n \"))\n",
    "\n",
    "        if number_of_hours > int(Manual[day_of_week][Time]['max_hours']):\n",
    "            print('Sorry Sir, Parking is allowed only for ', Manual[day_of_week][Time]['max_hours'], ' hours')\n",
    "            choice = input(\"Would you like to park? (press 'no' to leave) : \")\n",
    "            if choice.lower() == 'yes':\n",
    "                print('Enter Again!')\n",
    "\n",
    "            else:\n",
    "                number_of_hours = 0\n",
    "                break\n",
    "\n",
    "        else:\n",
    "            break \n",
    "\n",
    "\n",
    "# Calculating Price\n",
    "\n",
    "    Price = Manual[day_of_week][Time]['price_per_hour'] * number_of_hours \n",
    "    FCN()                                                                   # Discount Function\n",
    "    \n",
    "# storing amount paid by the customer in List\n",
    "\n",
    "    while True:\n",
    "        amount_paid = int(input(f\"Amount paid by the customer {i+1} : \"))\n",
    "        if amount_paid >= Price:\n",
    "            amount_by_customers.append(amount_paid)\n",
    "            break\n",
    "    \n",
    "        else:\n",
    "            print(\"Please pay the full amount\")\n",
    "    \n",
    "print(amount_by_customers)\n",
    "daily_total = sum(amount_by_customers)"
   ]
  },
  {
   "cell_type": "code",
   "execution_count": 92,
   "id": "0a523ead",
   "metadata": {},
   "outputs": [
    {
     "name": "stdout",
     "output_type": "stream",
     "text": [
      "20\n"
     ]
    }
   ],
   "source": [
    "# calculating total payment collected in a day\n",
    "print(daily_total)"
   ]
  },
  {
   "cell_type": "markdown",
   "id": "f936bae0",
   "metadata": {},
   "source": [
    "## Task 3 – Making payments fairer.\n"
   ]
  },
  {
   "cell_type": "markdown",
   "id": "8c7bf010",
   "metadata": {},
   "source": [
    "Customers have complained that sometimes they are being charged too much if they arrive\n",
    "before 16:00 and depart after 16:00. Extend Task 1 to calculate the price before 16:00, then add\n",
    "the evening charge. For example, a customer arriving at 14:45 on a Sunday and parking for five\n",
    "hours was previously charged 10.00 and would now be charged 6.00"
   ]
  },
  {
   "cell_type": "code",
   "execution_count": 93,
   "id": "92c124ff",
   "metadata": {},
   "outputs": [
    {
     "name": "stdout",
     "output_type": "stream",
     "text": [
      "6.0\n"
     ]
    }
   ],
   "source": [
    "if arrival_hour1 < 16:\n",
    "    if arrival_hour1 + number_of_hours1 > 16:\n",
    "        evening_time = arrival_hour1 + number_of_hours1 - 16\n",
    "        evening_charge = Manual[day_of_week]['2nd Time']['price_per_hour'] * evening_time\n",
    "        print(evening_charge)"
   ]
  },
  {
   "cell_type": "code",
   "execution_count": null,
   "id": "1749f8c1",
   "metadata": {},
   "outputs": [],
   "source": []
  }
 ],
 "metadata": {
  "kernelspec": {
   "display_name": "Python 3 (ipykernel)",
   "language": "python",
   "name": "python3"
  },
  "language_info": {
   "codemirror_mode": {
    "name": "ipython",
    "version": 3
   },
   "file_extension": ".py",
   "mimetype": "text/x-python",
   "name": "python",
   "nbconvert_exporter": "python",
   "pygments_lexer": "ipython3",
   "version": "3.11.5"
  }
 },
 "nbformat": 4,
 "nbformat_minor": 5
}
