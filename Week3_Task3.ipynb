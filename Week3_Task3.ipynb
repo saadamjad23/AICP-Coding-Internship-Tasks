{
 "cells": [
  {
   "cell_type": "markdown",
   "id": "7cc3233a",
   "metadata": {},
   "source": [
    "# AICP Internship Task Week 3"
   ]
  },
  {
   "cell_type": "markdown",
   "id": "82dd1079",
   "metadata": {},
   "source": [
    "Write and test a program to complete the three tasks.\n"
   ]
  },
  {
   "cell_type": "markdown",
   "id": "60ed6cad",
   "metadata": {},
   "source": [
    "## TASK 1"
   ]
  },
  {
   "cell_type": "markdown",
   "id": "4f5e731c",
   "metadata": {},
   "source": [
    "A school keeps records of the weights of each pupil. The weight, in kilograms, of each pupil is\n",
    "recorded on the first day of term. Input and store the weights and names recorded for a class of\n",
    "30 pupils. You must store the weights in a one-dimensional array and the names in another onedimensional array. All the weights must be validated on entry and any invalid weights rejected. You\n",
    "must decide your own validation rules. You may assume that the pupils’ names are unique. Output\n",
    "the names and weights of the pupils in the class."
   ]
  },
  {
   "cell_type": "code",
   "execution_count": 18,
   "id": "60e6a63b",
   "metadata": {},
   "outputs": [],
   "source": [
    "names = []\n",
    "first_day_weight = []"
   ]
  },
  {
   "cell_type": "code",
   "execution_count": 19,
   "id": "dd240b7b",
   "metadata": {},
   "outputs": [],
   "source": [
    "names.clear()"
   ]
  },
  {
   "cell_type": "code",
   "execution_count": 14,
   "id": "0a77db9e",
   "metadata": {},
   "outputs": [
    {
     "name": "stdout",
     "output_type": "stream",
     "text": [
      "Enter name of the Student 1 : Saad\n",
      "Enter weight of the Student 1 : 20\n",
      "Enter name of the Student 2 : Ehzaz\n",
      "Enter weight of the Student 2 : 19\n",
      "Enter name of the Student 3 : Ahsan\n",
      "Enter weight of the Student 3 : 21\n",
      "Enter name of the Student 4 : Okasha\n",
      "Enter weight of the Student 4 : 23\n",
      "Enter name of the Student 5 : Maaz\n",
      "Enter weight of the Student 5 : 18\n",
      "Enter name of the Student 6 : Safdar\n",
      "Enter weight of the Student 6 : 35\n",
      "Enter name of the Student 7 : Ali\n",
      "Enter weight of the Student 7 : 40\n",
      "Enter name of the Student 8 : Kamil10\n",
      "Enter weight of the Student 8 : 10\n",
      "Please Input the valid Weight.\n",
      "Enter weight of the Student 8 : 12\n",
      "Enter name of the Student 9 : Sharjeel\n",
      "Enter weight of the Student 9 : 45\n",
      "Enter name of the Student 10 : Muqtadir\n",
      "Enter weight of the Student 10 : 50\n",
      "Enter name of the Student 11 : Anees\n",
      "Enter weight of the Student 11 : 23\n",
      "Enter name of the Student 12 : Jawad\n",
      "Enter weight of the Student 12 : 14\n",
      "Enter name of the Student 13 : Hassan\n",
      "Enter weight of the Student 13 : 56\n",
      "Enter name of the Student 14 : Anas\n",
      "Enter weight of the Student 14 : 34\n",
      "Enter name of the Student 15 : Faqeer\n",
      "Enter weight of the Student 15 : 70\n",
      "Please Input the valid Weight.\n",
      "Enter weight of the Student 15 : 65\n",
      "Please Input the valid Weight.\n",
      "Enter weight of the Student 15 : 60\n",
      "Please Input the valid Weight.\n",
      "Enter weight of the Student 15 : 55\n",
      "Enter name of the Student 16 : Faizan\n",
      "Enter weight of the Student 16 : 15\n",
      "Enter name of the Student 17 : Mohsin\n",
      "Enter weight of the Student 17 : 45\n",
      "Enter name of the Student 18 : Waqas\n",
      "Enter weight of the Student 18 : 40\n",
      "Enter name of the Student 19 : Waqar\n",
      "Enter weight of the Student 19 : 34\n",
      "Enter name of the Student 20 : Furqan\n",
      "Enter weight of the Student 20 : 54\n",
      "Enter name of the Student 21 : Momin\n",
      "Enter weight of the Student 21 : 45\n",
      "Enter name of the Student 22 : Usman\n",
      "Enter weight of the Student 22 : 12\n",
      "Enter name of the Student 23 : Adnan\n",
      "Enter weight of the Student 23 : 34\n",
      "Enter name of the Student 24 : Kamil\n",
      "Enter weight of the Student 24 : 49\n",
      "Enter name of the Student 25 : Ehsan\n",
      "Enter weight of the Student 25 : 30\n",
      "Enter name of the Student 26 : Umer\n",
      "Enter weight of the Student 26 : 29\n",
      "Enter name of the Student 27 : Fawad\n",
      "Enter weight of the Student 27 : 57\n",
      "Enter name of the Student 28 : Hammad\n",
      "Enter weight of the Student 28 : 25\n",
      "Enter name of the Student 29 : Waleed\n",
      "Enter weight of the Student 29 : 47\n",
      "Enter name of the Student 30 : Kashif\n",
      "Enter weight of the Student 30 : 20\n"
     ]
    }
   ],
   "source": [
    "for i in range(0, 30):\n",
    "    name = input(f\"Enter name of the Student {i + 1} : \")\n",
    "    names.append(name)\n",
    "\n",
    "    while True:\n",
    "        try:\n",
    "            weight = float(input(f\"Enter weight of the Student {i + 1} : \"))\n",
    "\n",
    "            if weight > 10.0 and weight < 60.0:\n",
    "                first_day_weight.append(weight)\n",
    "                break\n",
    "\n",
    "            else:\n",
    "                print(\"Please Input the valid Weight.\")\n",
    "\n",
    "        except ValueError:\n",
    "             print(\"Invalid input! Please enter a valid number.\")\n",
    "\n",
    "## TASK 2\n"
   ]
  },
  {
   "cell_type": "markdown",
   "id": "a82ec46c",
   "metadata": {},
   "source": [
    "## Task 2:"
   ]
  },
  {
   "cell_type": "markdown",
   "id": "39abfa1c",
   "metadata": {},
   "source": [
    "The weight, in kilograms, of each pupil is recorded again on the last day of term. Calculate and store\n",
    "the difference in weight for each pupil."
   ]
  },
  {
   "cell_type": "code",
   "execution_count": 15,
   "id": "f1325a6c",
   "metadata": {},
   "outputs": [],
   "source": [
    "last_day_weight = []"
   ]
  },
  {
   "cell_type": "code",
   "execution_count": 16,
   "id": "2ad52839",
   "metadata": {},
   "outputs": [
    {
     "name": "stdout",
     "output_type": "stream",
     "text": [
      "Enter Weight of the Saad on Last Day : 25\n",
      "Enter Weight of the Ehzaz on Last Day : 20\n",
      "Enter Weight of the Ahsan on Last Day : 21\n",
      "Enter Weight of the Okasha on Last Day : 25\n",
      "Enter Weight of the Maaz on Last Day : 20\n",
      "Enter Weight of the Safdar on Last Day : 40\n",
      "Enter Weight of the Ali on Last Day : 35\n",
      "Enter Weight of the Kamil10 on Last Day : 13\n",
      "Enter Weight of the Sharjeel on Last Day : 15\n",
      "Enter Weight of the Muqtadir on Last Day : 40\n",
      "Enter Weight of the Anees on Last Day : 25\n",
      "Enter Weight of the Jawad on Last Day : 12\n",
      "Enter Weight of the Hassan on Last Day : 50\n",
      "Enter Weight of the Anas on Last Day : 30\n",
      "Enter Weight of the Faqeer on Last Day : 55\n",
      "Enter Weight of the Faizan on Last Day : 20\n",
      "Enter Weight of the Mohsin on Last Day : 43\n",
      "Enter Weight of the Waqas on Last Day : 37\n",
      "Enter Weight of the Waqar on Last Day : 15\n",
      "Enter Weight of the Furqan on Last Day : 50\n",
      "Enter Weight of the Momin on Last Day : 38\n",
      "Enter Weight of the Usman on Last Day : 15\n",
      "Enter Weight of the Adnan on Last Day : 35\n",
      "Enter Weight of the Kamil on Last Day : 50\n",
      "Enter Weight of the Ehsan on Last Day : 35\n",
      "Enter Weight of the Umer on Last Day : 30\n",
      "Enter Weight of the Fawad on Last Day : 60\n",
      "Please Input the valid Weight.\n",
      "Enter Weight of the Fawad on Last Day : 59\n",
      "Enter Weight of the Hammad on Last Day : 25\n",
      "Enter Weight of the Waleed on Last Day : 40\n",
      "Enter Weight of the Kashif on Last Day : 20\n"
     ]
    }
   ],
   "source": [
    "for i in range(0, 30):\n",
    "\n",
    "    while True:   \n",
    "        try:       \n",
    "            w = float(input(f\"Enter Weight of the {names[i]} on Last Day : \"))\n",
    "\n",
    "            if w > 10.0 and w < 60.0:\n",
    "                last_day_weight.append(w)\n",
    "                break\n",
    "\n",
    "            else:\n",
    "                print(\"Please Input the valid Weight.\")\n",
    "\n",
    "        except ValueError:\n",
    "                print(\"Invalid input! Please enter a valid number.\")"
   ]
  },
  {
   "cell_type": "markdown",
   "id": "2b791352",
   "metadata": {},
   "source": [
    "## TASK 3\n"
   ]
  },
  {
   "cell_type": "markdown",
   "id": "eeec73c4",
   "metadata": {},
   "source": [
    "For those pupils who have a difference in weight of more than 2.5 kilograms, output, with a suitable\n",
    "message, the pupil’s name, the difference in weight and whether this is a rise or a fall.\n",
    "Your program must include appropriate prompts for the entry of data. Error messages and other\n",
    "outputs need to be set out clearly and understandably. All variables, constants and other identifiers\n",
    "must have meaningful names. Each task must be fully tested.\n"
   ]
  },
  {
   "cell_type": "code",
   "execution_count": 17,
   "id": "70657d0e",
   "metadata": {},
   "outputs": [
    {
     "name": "stdout",
     "output_type": "stream",
     "text": [
      "Saad has gain 5.0 kg of weight\n",
      "Safdar has gain 5.0 kg of weight\n",
      "Ali has loss 5.0 kg of weight\n",
      "Sharjeel has loss 30.0 kg of weight\n",
      "Muqtadir has loss 10.0 kg of weight\n",
      "Hassan has loss 6.0 kg of weight\n",
      "Anas has loss 4.0 kg of weight\n",
      "Faizan has gain 5.0 kg of weight\n",
      "Waqas has loss 3.0 kg of weight\n",
      "Waqar has loss 19.0 kg of weight\n",
      "Furqan has loss 4.0 kg of weight\n",
      "Momin has loss 7.0 kg of weight\n",
      "Usman has gain 3.0 kg of weight\n",
      "Ehsan has gain 5.0 kg of weight\n",
      "Waleed has loss 7.0 kg of weight\n"
     ]
    }
   ],
   "source": [
    "for i in range(0, 30):\n",
    "    if (first_day_weight[i] - last_day_weight[i]) > 2.5:\n",
    "        print(f\"{names[i]} has loss {first_day_weight[i] - last_day_weight[i]} kg of weight\")\n",
    "        \n",
    "    elif (last_day_weight[i] - first_day_weight[i]) > 2.5:\n",
    "        print(f\"{names[i]} has gain {last_day_weight[i] - first_day_weight[i]} kg of weight\")"
   ]
  },
  {
   "cell_type": "code",
   "execution_count": null,
   "id": "5145ded7",
   "metadata": {},
   "outputs": [],
   "source": []
  }
 ],
 "metadata": {
  "kernelspec": {
   "display_name": "Python 3 (ipykernel)",
   "language": "python",
   "name": "python3"
  },
  "language_info": {
   "codemirror_mode": {
    "name": "ipython",
    "version": 3
   },
   "file_extension": ".py",
   "mimetype": "text/x-python",
   "name": "python",
   "nbconvert_exporter": "python",
   "pygments_lexer": "ipython3",
   "version": "3.11.5"
  }
 },
 "nbformat": 4,
 "nbformat_minor": 5
}
